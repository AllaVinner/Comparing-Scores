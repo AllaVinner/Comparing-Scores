{
 "cells": [
  {
   "cell_type": "code",
   "execution_count": 1,
   "metadata": {},
   "outputs": [
    {
     "name": "stdout",
     "output_type": "stream",
     "text": [
      "c:\\Users\\joelw\\OneDrive\\Documents\\Projects\\Programming\\Comparing-Scores\n"
     ]
    },
    {
     "data": {
      "text/plain": [
       "'c:\\\\Users\\\\joelw\\\\OneDrive\\\\Documents\\\\Projects\\\\Programming\\\\Comparing-Scores'"
      ]
     },
     "execution_count": 1,
     "metadata": {},
     "output_type": "execute_result"
    }
   ],
   "source": [
    "import os\n",
    "working_dir_path = %pwd  #look at the current work dir\n",
    "if os.path.basename(working_dir_path) == 'notebooks':\n",
    "    %cd ..\n",
    "%pwd "
   ]
  },
  {
   "cell_type": "code",
   "execution_count": 17,
   "metadata": {},
   "outputs": [],
   "source": [
    "import numpy as np\n",
    "import scipy\n",
    "import math"
   ]
  },
  {
   "attachments": {},
   "cell_type": "markdown",
   "metadata": {},
   "source": [
    "# Percentage D=[0, 1]"
   ]
  },
  {
   "cell_type": "code",
   "execution_count": null,
   "metadata": {},
   "outputs": [],
   "source": [
    "# Percentage case D = [0, 1]\n",
    "N = 100\n",
    "n = 30\n",
    "p = n/N"
   ]
  },
  {
   "cell_type": "code",
   "execution_count": 25,
   "metadata": {},
   "outputs": [],
   "source": [
    "def additative_score(p0, p1):\n",
    "    # (n1-n0)/N\n",
    "    return p1 - p0\n",
    "\n",
    "def multiplicative_score(p0, p1):\n",
    "    # n1/n0\n",
    "    if p0 == 0:\n",
    "        return np.inf\n",
    "    else:\n",
    "        return p1/p0\n",
    "\n",
    "def erf_score(p0, p1):\n",
    "    return math.erfc(p1-0.5) - math.erfc(p0-0.5)\n",
    "\n"
   ]
  },
  {
   "cell_type": "code",
   "execution_count": 14,
   "metadata": {},
   "outputs": [],
   "source": [
    "def find_comparable(control_0, control_1, compare_point, score_fn):\n",
    "    score = score_fn(control_0, control_1)\n",
    "    res = scipy.optimize.minimize_scalar(lambda x: (score - score_fn(compare_point, x))**2)\n",
    "    eqv_point = res.x\n",
    "    return eqv_point"
   ]
  },
  {
   "cell_type": "code",
   "execution_count": 29,
   "metadata": {},
   "outputs": [
    {
     "name": "stdout",
     "output_type": "stream",
     "text": [
      "eqv point:  0.018921310375875793\n",
      "eqv point:  0.5037158663892756\n"
     ]
    }
   ],
   "source": [
    "\n",
    "eqv_point = find_comparable(0.99, 0.999, 0.01, erf_score)\n",
    "print(\"eqv point: \", eqv_point)\n",
    "print(\"eqv point: \", erf_score(0.5, eqv_point))"
   ]
  }
 ],
 "metadata": {
  "kernelspec": {
   "display_name": "jenv",
   "language": "python",
   "name": "python3"
  },
  "language_info": {
   "codemirror_mode": {
    "name": "ipython",
    "version": 3
   },
   "file_extension": ".py",
   "mimetype": "text/x-python",
   "name": "python",
   "nbconvert_exporter": "python",
   "pygments_lexer": "ipython3",
   "version": "3.9.15"
  },
  "orig_nbformat": 4,
  "vscode": {
   "interpreter": {
    "hash": "a6df720517243887f81f829574e18eed6582ce87175ffd531d5fa99bc43729cc"
   }
  }
 },
 "nbformat": 4,
 "nbformat_minor": 2
}
