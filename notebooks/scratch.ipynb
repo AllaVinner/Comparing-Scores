{
 "cells": [
  {
   "cell_type": "code",
   "execution_count": 1,
   "metadata": {},
   "outputs": [
    {
     "name": "stdout",
     "output_type": "stream",
     "text": [
      "c:\\Users\\joelw\\OneDrive\\Documents\\Projects\\Programming\\Comparing-Scores\n"
     ]
    },
    {
     "data": {
      "text/plain": [
       "'c:\\\\Users\\\\joelw\\\\OneDrive\\\\Documents\\\\Projects\\\\Programming\\\\Comparing-Scores'"
      ]
     },
     "execution_count": 1,
     "metadata": {},
     "output_type": "execute_result"
    }
   ],
   "source": [
    "import os\n",
    "working_dir_path = %pwd  #look at the current work dir\n",
    "if os.path.basename(working_dir_path) == 'notebooks':\n",
    "    %cd ..\n",
    "%pwd "
   ]
  },
  {
   "cell_type": "code",
   "execution_count": 17,
   "metadata": {},
   "outputs": [],
   "source": [
    "import numpy as np\n",
    "import scipy\n",
    "import math"
   ]
  },
  {
   "attachments": {},
   "cell_type": "markdown",
   "metadata": {},
   "source": [
    "# Percentage D=[0, 1]"
   ]
  },
  {
   "cell_type": "code",
   "execution_count": null,
   "metadata": {},
   "outputs": [],
   "source": [
    "# Percentage case D = [0, 1]\n",
    "N = 100\n",
    "n = 30\n",
    "p = n/N"
   ]
  },
  {
   "cell_type": "code",
   "execution_count": 38,
   "metadata": {},
   "outputs": [],
   "source": [
    "def additative_score(p0, p1):\n",
    "    # (n1-n0)/N\n",
    "    return p1 - p0\n",
    "\n",
    "def multiplicative_score(p0, p1):\n",
    "    # n1/n0\n",
    "    if p0 == 0:\n",
    "        return np.inf\n",
    "    else:\n",
    "        return p1/p0\n",
    "\n",
    "def erf_score(p0, p1):\n",
    "    return scipy.special.erfinv(2*(p1-0.5)) - scipy.special.erfinv(2*(p0-0.5))\n",
    "\n"
   ]
  },
  {
   "cell_type": "code",
   "execution_count": 49,
   "metadata": {},
   "outputs": [],
   "source": [
    "def find_comparable(control_0, control_1, compare_point, score_fn):\n",
    "    score = score_fn(control_0, control_1)\n",
    "    res = scipy.optimize.minimize_scalar(lambda x: (score - score_fn(compare_point, x))**2, bracket=[0.01, 1-0.01])\n",
    "    eqv_point = res.x\n",
    "    print(res)\n",
    "    return eqv_point"
   ]
  },
  {
   "cell_type": "code",
   "execution_count": 50,
   "metadata": {},
   "outputs": [
    {
     "name": "stdout",
     "output_type": "stream",
     "text": [
      "     fun: nan\n",
      " message: 'NaN result encountered.'\n",
      "    nfev: 40\n",
      "     nit: 36\n",
      " success: False\n",
      "       x: 2.5756732812794834\n",
      "eqv point:  2.5756732812794834\n",
      "Comp score:  0.3110777209868284\n",
      "eqv score:  nan\n"
     ]
    }
   ],
   "source": [
    "p0 = 0.1\n",
    "p1 = 0.2\n",
    "c0 = 0.5\n",
    "score_fn = erf_score\n",
    "eqv_point = find_comparable(p0, p1, c0, score_fn)\n",
    "print(\"eqv point: \", eqv_point)\n",
    "print(\"Comp score: \", score_fn(p0, p1))\n",
    "\n",
    "print(\"eqv score: \", score_fn(c0, eqv_point))"
   ]
  },
  {
   "cell_type": "code",
   "execution_count": 44,
   "metadata": {},
   "outputs": [
    {
     "data": {
      "text/plain": [
       "nan"
      ]
     },
     "execution_count": 44,
     "metadata": {},
     "output_type": "execute_result"
    }
   ],
   "source": [
    "scipy.special.erfinv(2)"
   ]
  },
  {
   "cell_type": "code",
   "execution_count": null,
   "metadata": {},
   "outputs": [],
   "source": []
  }
 ],
 "metadata": {
  "kernelspec": {
   "display_name": "jenv",
   "language": "python",
   "name": "python3"
  },
  "language_info": {
   "codemirror_mode": {
    "name": "ipython",
    "version": 3
   },
   "file_extension": ".py",
   "mimetype": "text/x-python",
   "name": "python",
   "nbconvert_exporter": "python",
   "pygments_lexer": "ipython3",
   "version": "3.9.15"
  },
  "orig_nbformat": 4,
  "vscode": {
   "interpreter": {
    "hash": "a6df720517243887f81f829574e18eed6582ce87175ffd531d5fa99bc43729cc"
   }
  }
 },
 "nbformat": 4,
 "nbformat_minor": 2
}
